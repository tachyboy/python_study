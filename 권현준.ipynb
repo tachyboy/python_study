{
  "nbformat": 4,
  "nbformat_minor": 0,
  "metadata": {
    "colab": {
      "name": "권현준.ipynb",
      "version": "0.3.2",
      "provenance": [],
      "include_colab_link": true
    },
    "kernelspec": {
      "name": "python3",
      "display_name": "Python 3"
    }
  },
  "cells": [
    {
      "cell_type": "markdown",
      "metadata": {
        "id": "view-in-github",
        "colab_type": "text"
      },
      "source": [
        "<a href=\"https://colab.research.google.com/github/tachyboy/python_study/blob/master/%EA%B6%8C%ED%98%84%EC%A4%80.ipynb\" target=\"_parent\"><img src=\"https://colab.research.google.com/assets/colab-badge.svg\" alt=\"Open In Colab\"/></a>"
      ]
    },
    {
      "cell_type": "markdown",
      "metadata": {
        "id": "WrUi0aK0PELp",
        "colab_type": "text"
      },
      "source": [
        "# 리스트 "
      ]
    },
    {
      "cell_type": "markdown",
      "metadata": {
        "id": "Vpv-53nQPkfv",
        "colab_type": "text"
      },
      "source": [
        "방법은 2가지\n",
        "#### 방법1 \n",
        " list1이라는 빈 리스트를 만들어보겠습니다."
      ]
    },
    {
      "cell_type": "code",
      "metadata": {
        "id": "scm2hpMuRJDy",
        "colab_type": "code",
        "colab": {
          "base_uri": "https://localhost:8080/",
          "height": 34
        },
        "outputId": "bba63b9f-f3d8-42ee-d30c-f340e4e2edfa"
      },
      "source": [
        "list1 = []\n",
        "print(list1)"
      ],
      "execution_count": 1,
      "outputs": [
        {
          "output_type": "stream",
          "text": [
            "[]\n"
          ],
          "name": "stdout"
        }
      ]
    },
    {
      "cell_type": "code",
      "metadata": {
        "id": "zcy9NdL3RSgz",
        "colab_type": "code",
        "colab": {
          "base_uri": "https://localhost:8080/",
          "height": 34
        },
        "outputId": "3f5b212b-c55f-4f40-8d97-c6b2dd161c22"
      },
      "source": [
        "list3 = list([1,2,2])\n",
        "lsit3 = [1,2,2]\n",
        "\n",
        "print(list3)"
      ],
      "execution_count": 7,
      "outputs": [
        {
          "output_type": "stream",
          "text": [
            "[1, 2, 2]\n"
          ],
          "name": "stdout"
        }
      ]
    },
    {
      "cell_type": "code",
      "metadata": {
        "id": "ic2ZWuiOSD0E",
        "colab_type": "code",
        "colab": {}
      },
      "source": [
        ""
      ],
      "execution_count": 0,
      "outputs": []
    }
  ]
}